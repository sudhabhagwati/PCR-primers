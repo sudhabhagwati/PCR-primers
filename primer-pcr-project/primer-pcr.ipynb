{
 "cells": [
  {
   "cell_type": "code",
   "execution_count": 54,
   "metadata": {},
   "outputs": [],
   "source": [
    "from pydna.dseq import Dseq\n",
    "from pydna.amplify import pcr\n",
    "from pydna.primer import Primer\n",
    "from pydna.design import primer_design\n",
    "from pydna.dseqrecord import Dseqrecord\n",
    "from pydna.tm import *\n",
    "import arlpy.plot as aplt\n",
    "import numpy as np"
   ]
  },
  {
   "cell_type": "code",
   "execution_count": 2,
   "metadata": {},
   "outputs": [],
   "source": [
    "# Read the RNA sequence from the file\n",
    "filename = \"data/template.txt\"\n",
    "with open(filename) as f:\n",
    "    sequence = \"\".join(f.read().splitlines())"
   ]
  },
  {
   "cell_type": "code",
   "execution_count": 3,
   "metadata": {},
   "outputs": [
    {
     "data": {
      "text/plain": [
       "'CAAAACACATGTTTAGGTACAAAACTTTGTATAGAAATATTTGAGTAAATTACTTATTGGAAATTTGTTAGTATACAAATCCATGAATAAGACAGACTTGTTTGAGTATTATTGCTTAGAGTTTGAGGCTATGAACAAATGGAGATTTTGCTCATGTACATTTCTCAATCTTTTTCCCAGTGAGATTATTTAGAATCTTTGCATTACCCTCCAAATATTATATAATTTTGTCATTATATCATGTCAGTGTGCCACAAATGGTGTACATAGATTCATTGATCTCAGTCACATCAAATATACCAATTCACAGTGCATCAACATGTTTTACAAGGGGAAAAGTGGATATTCTGAGATGTTAAAGTAATATCCAAGTGGTTTTATTTTTTGTATTAAAGTTATGCTATGGTTTTATGAGGATTTTTTTTAAGGGCATCCTTATGTAGCAGTCCTAGTAGTATATACCCTGAAGTGCAAGATTGAAACATATAATAGAATGCAGCACTGTGACAGAAAATCACATCTTTGATTTTTACCATACCACTATCTTATTAAAAATAGAGCAGCC'"
      ]
     },
     "execution_count": 3,
     "metadata": {},
     "output_type": "execute_result"
    }
   ],
   "source": [
    "sequence"
   ]
  },
  {
   "cell_type": "code",
   "execution_count": 69,
   "metadata": {},
   "outputs": [
    {
     "data": {
      "text/plain": [
       "31.0"
      ]
     },
     "execution_count": 69,
     "metadata": {},
     "output_type": "execute_result"
    }
   ],
   "source": [
    "Dseqrecord(sequence).gc()"
   ]
  },
  {
   "cell_type": "code",
   "execution_count": 35,
   "metadata": {},
   "outputs": [],
   "source": [
    "\"\"\"\n",
    "# Input: template sequence\n",
    "# Output: primers\n",
    "\"\"\"\n",
    "def getPrimer(dna, temperature=60.0):\n",
    "    ampl = primer_design(Dseqrecord(dna), target_tm=temperature)\n",
    "    return ampl"
   ]
  },
  {
   "cell_type": "code",
   "execution_count": 47,
   "metadata": {},
   "outputs": [],
   "source": [
    "\"\"\"\n",
    "# Input: template sequence, product length\n",
    "# Output: list containing forward and reverse primers\n",
    "\"\"\"\n",
    "def get_primers_list(dna, product_length):\n",
    "    list_primers_info = []\n",
    "    for index in range((len(dna)-product_length)+1):\n",
    "        start_index = index\n",
    "        end_index = index + product_length\n",
    "        ampl = getPrimer(dna[start_index:end_index])\n",
    "        primers_info = (start_index, end_index, ampl.forward_primer, ampl.reverse_primer)\n",
    "        list_primers_info.append(primers_info)\n",
    "    return list_primers_info"
   ]
  },
  {
   "cell_type": "code",
   "execution_count": 67,
   "metadata": {},
   "outputs": [],
   "source": [
    "primers_list = get_primers_list(sequence, 150)"
   ]
  },
  {
   "cell_type": "code",
   "execution_count": 68,
   "metadata": {},
   "outputs": [
    {
     "data": {
      "text/html": [
       "\n",
       "\n",
       "\n",
       "\n",
       "\n",
       "\n",
       "  <div class=\"bk-root\" id=\"296ba635-e8e0-4d1c-b07f-8b1417ceaa62\" data-root-id=\"1889\"></div>\n"
      ]
     },
     "metadata": {},
     "output_type": "display_data"
    },
    {
     "data": {
      "application/javascript": [
       "(function(root) {\n",
       "  function embed_document(root) {\n",
       "    \n",
       "  var docs_json = {\"eaa2f039-116e-4938-b723-4a0d6485f64d\":{\"roots\":{\"references\":[{\"attributes\":{\"below\":[{\"id\":\"1899\",\"type\":\"LinearAxis\"}],\"center\":[{\"id\":\"1903\",\"type\":\"Grid\"},{\"id\":\"1908\",\"type\":\"Grid\"},{\"id\":\"1931\",\"type\":\"Span\"},{\"id\":\"1932\",\"type\":\"Span\"}],\"left\":[{\"id\":\"1904\",\"type\":\"LinearAxis\"}],\"plot_height\":400,\"renderers\":[{\"id\":\"1924\",\"type\":\"GlyphRenderer\"},{\"id\":\"1929\",\"type\":\"GlyphRenderer\"}],\"title\":null,\"toolbar\":{\"id\":\"1914\",\"type\":\"Toolbar\"},\"x_range\":{\"id\":\"1891\",\"type\":\"Range1d\"},\"x_scale\":{\"id\":\"1895\",\"type\":\"LinearScale\"},\"y_range\":{\"id\":\"1893\",\"type\":\"Range1d\"},\"y_scale\":{\"id\":\"1897\",\"type\":\"LinearScale\"}},\"id\":\"1889\",\"subtype\":\"Figure\",\"type\":\"Plot\"},{\"attributes\":{},\"id\":\"2001\",\"type\":\"BasicTickFormatter\"},{\"attributes\":{\"source\":{\"id\":\"1921\",\"type\":\"ColumnDataSource\"}},\"id\":\"1925\",\"type\":\"CDSView\"},{\"attributes\":{\"line_color\":{\"value\":\"gray\"},\"line_dash\":[6],\"location\":55.0},\"id\":\"1932\",\"type\":\"Span\"},{\"attributes\":{},\"id\":\"1905\",\"type\":\"BasicTicker\"},{\"attributes\":{\"line_color\":\"mediumblue\",\"x\":{\"field\":\"x\"},\"y\":{\"field\":\"y\"}},\"id\":\"1922\",\"type\":\"Line\"},{\"attributes\":{\"formatter\":{\"id\":\"2001\",\"type\":\"BasicTickFormatter\"},\"ticker\":{\"id\":\"1900\",\"type\":\"BasicTicker\"}},\"id\":\"1899\",\"type\":\"LinearAxis\"},{\"attributes\":{},\"id\":\"2004\",\"type\":\"Selection\"},{\"attributes\":{},\"id\":\"1895\",\"type\":\"LinearScale\"},{\"attributes\":{\"callback\":null,\"end\":415},\"id\":\"1891\",\"type\":\"Range1d\"},{\"attributes\":{},\"id\":\"1909\",\"type\":\"PanTool\"},{\"attributes\":{\"active_drag\":\"auto\",\"active_inspect\":\"auto\",\"active_multi\":null,\"active_scroll\":\"auto\",\"active_tap\":\"auto\",\"logo\":null,\"tools\":[{\"id\":\"1909\",\"type\":\"PanTool\"},{\"id\":\"1910\",\"type\":\"BoxZoomTool\"},{\"id\":\"1911\",\"type\":\"WheelZoomTool\"},{\"id\":\"1912\",\"type\":\"ResetTool\"},{\"id\":\"1913\",\"type\":\"SaveTool\"}]},\"id\":\"1914\",\"type\":\"Toolbar\"},{\"attributes\":{\"formatter\":{\"id\":\"1999\",\"type\":\"BasicTickFormatter\"},\"ticker\":{\"id\":\"1905\",\"type\":\"BasicTicker\"}},\"id\":\"1904\",\"type\":\"LinearAxis\"},{\"attributes\":{\"callback\":null,\"data\":{\"x\":[0,1,2,3,4,5,6,7,8,9,10,11,12,13,14,15,16,17,18,19,20,21,22,23,24,25,26,27,28,29,30,31,32,33,34,35,36,37,38,39,40,41,42,43,44,45,46,47,48,49,50,51,52,53,54,55,56,57,58,59,60,61,62,63,64,65,66,67,68,69,70,71,72,73,74,75,76,77,78,79,80,81,82,83,84,85,86,87,88,89,90,91,92,93,94,95,96,97,98,99,100,101,102,103,104,105,106,107,108,109,110,111,112,113,114,115,116,117,118,119,120,121,122,123,124,125,126,127,128,129,130,131,132,133,134,135,136,137,138,139,140,141,142,143,144,145,146,147,148,149,150,151,152,153,154,155,156,157,158,159,160,161,162,163,164,165,166,167,168,169,170,171,172,173,174,175,176,177,178,179,180,181,182,183,184,185,186,187,188,189,190,191,192,193,194,195,196,197,198,199,200,201,202,203,204,205,206,207,208,209,210,211,212,213,214,215,216,217,218,219,220,221,222,223,224,225,226,227,228,229,230,231,232,233,234,235,236,237,238,239,240,241,242,243,244,245,246,247,248,249,250,251,252,253,254,255,256,257,258,259,260,261,262,263,264,265,266,267,268,269,270,271,272,273,274,275,276,277,278,279,280,281,282,283,284,285,286,287,288,289,290,291,292,293,294,295,296,297,298,299,300,301,302,303,304,305,306,307,308,309,310,311,312,313,314,315,316,317,318,319,320,321,322,323,324,325,326,327,328,329,330,331,332,333,334,335,336,337,338,339,340,341,342,343,344,345,346,347,348,349,350,351,352,353,354,355,356,357,358,359,360,361,362,363,364,365,366,367,368,369,370,371,372,373,374,375,376,377,378,379,380,381,382,383,384,385,386,387,388,389,390,391,392,393,394,395,396,397,398,399,400,401,402,403,404,405,406,407,408,409,410,411,412,413,414,415],\"y\":{\"__ndarray__\":\"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\",\"dtype\":\"float64\",\"shape\":[416]}},\"selected\":{\"id\":\"2002\",\"type\":\"Selection\"},\"selection_policy\":{\"id\":\"2003\",\"type\":\"UnionRenderers\"}},\"id\":\"1921\",\"type\":\"ColumnDataSource\"},{\"attributes\":{\"line_alpha\":0.1,\"line_color\":\"#1f77b4\",\"x\":{\"field\":\"x\"},\"y\":{\"field\":\"y\"}},\"id\":\"1923\",\"type\":\"Line\"},{\"attributes\":{\"line_color\":\"crimson\",\"x\":{\"field\":\"x\"},\"y\":{\"field\":\"y\"}},\"id\":\"1927\",\"type\":\"Line\"},{\"attributes\":{\"bottom_units\":\"screen\",\"fill_alpha\":{\"value\":0.5},\"fill_color\":{\"value\":\"lightgrey\"},\"left_units\":\"screen\",\"level\":\"overlay\",\"line_alpha\":{\"value\":1.0},\"line_color\":{\"value\":\"black\"},\"line_dash\":[4,4],\"line_width\":{\"value\":2},\"render_mode\":\"css\",\"right_units\":\"screen\",\"top_units\":\"screen\"},\"id\":\"2006\",\"type\":\"BoxAnnotation\"},{\"attributes\":{\"callback\":null,\"data\":{\"x\":[0,1,2,3,4,5,6,7,8,9,10,11,12,13,14,15,16,17,18,19,20,21,22,23,24,25,26,27,28,29,30,31,32,33,34,35,36,37,38,39,40,41,42,43,44,45,46,47,48,49,50,51,52,53,54,55,56,57,58,59,60,61,62,63,64,65,66,67,68,69,70,71,72,73,74,75,76,77,78,79,80,81,82,83,84,85,86,87,88,89,90,91,92,93,94,95,96,97,98,99,100,101,102,103,104,105,106,107,108,109,110,111,112,113,114,115,116,117,118,119,120,121,122,123,124,125,126,127,128,129,130,131,132,133,134,135,136,137,138,139,140,141,142,143,144,145,146,147,148,149,150,151,152,153,154,155,156,157,158,159,160,161,162,163,164,165,166,167,168,169,170,171,172,173,174,175,176,177,178,179,180,181,182,183,184,185,186,187,188,189,190,191,192,193,194,195,196,197,198,199,200,201,202,203,204,205,206,207,208,209,210,211,212,213,214,215,216,217,218,219,220,221,222,223,224,225,226,227,228,229,230,231,232,233,234,235,236,237,238,239,240,241,242,243,244,245,246,247,248,249,250,251,252,253,254,255,256,257,258,259,260,261,262,263,264,265,266,267,268,269,270,271,272,273,274,275,276,277,278,279,280,281,282,283,284,285,286,287,288,289,290,291,292,293,294,295,296,297,298,299,300,301,302,303,304,305,306,307,308,309,310,311,312,313,314,315,316,317,318,319,320,321,322,323,324,325,326,327,328,329,330,331,332,333,334,335,336,337,338,339,340,341,342,343,344,345,346,347,348,349,350,351,352,353,354,355,356,357,358,359,360,361,362,363,364,365,366,367,368,369,370,371,372,373,374,375,376,377,378,379,380,381,382,383,384,385,386,387,388,389,390,391,392,393,394,395,396,397,398,399,400,401,402,403,404,405,406,407,408,409,410,411,412,413,414,415],\"y\":{\"__ndarray__\":\"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\",\"dtype\":\"float64\",\"shape\":[416]}},\"selected\":{\"id\":\"2004\",\"type\":\"Selection\"},\"selection_policy\":{\"id\":\"2005\",\"type\":\"UnionRenderers\"}},\"id\":\"1926\",\"type\":\"ColumnDataSource\"},{\"attributes\":{},\"id\":\"1897\",\"type\":\"LinearScale\"},{\"attributes\":{},\"id\":\"2003\",\"type\":\"UnionRenderers\"},{\"attributes\":{\"data_source\":{\"id\":\"1926\",\"type\":\"ColumnDataSource\"},\"glyph\":{\"id\":\"1927\",\"type\":\"Line\"},\"hover_glyph\":null,\"muted_glyph\":null,\"nonselection_glyph\":{\"id\":\"1928\",\"type\":\"Line\"},\"selection_glyph\":null,\"view\":{\"id\":\"1930\",\"type\":\"CDSView\"}},\"id\":\"1929\",\"type\":\"GlyphRenderer\"},{\"attributes\":{\"callback\":null,\"end\":60,\"start\":10},\"id\":\"1893\",\"type\":\"Range1d\"},{\"attributes\":{},\"id\":\"1912\",\"type\":\"ResetTool\"},{\"attributes\":{},\"id\":\"1900\",\"type\":\"BasicTicker\"},{\"attributes\":{},\"id\":\"2002\",\"type\":\"Selection\"},{\"attributes\":{\"source\":{\"id\":\"1926\",\"type\":\"ColumnDataSource\"}},\"id\":\"1930\",\"type\":\"CDSView\"},{\"attributes\":{\"ticker\":{\"id\":\"1900\",\"type\":\"BasicTicker\"}},\"id\":\"1903\",\"type\":\"Grid\"},{\"attributes\":{\"dimension\":1,\"ticker\":{\"id\":\"1905\",\"type\":\"BasicTicker\"}},\"id\":\"1908\",\"type\":\"Grid\"},{\"attributes\":{},\"id\":\"2005\",\"type\":\"UnionRenderers\"},{\"attributes\":{\"data_source\":{\"id\":\"1921\",\"type\":\"ColumnDataSource\"},\"glyph\":{\"id\":\"1922\",\"type\":\"Line\"},\"hover_glyph\":null,\"muted_glyph\":null,\"nonselection_glyph\":{\"id\":\"1923\",\"type\":\"Line\"},\"selection_glyph\":null,\"view\":{\"id\":\"1925\",\"type\":\"CDSView\"}},\"id\":\"1924\",\"type\":\"GlyphRenderer\"},{\"attributes\":{},\"id\":\"1911\",\"type\":\"WheelZoomTool\"},{\"attributes\":{\"line_alpha\":0.1,\"line_color\":\"#1f77b4\",\"x\":{\"field\":\"x\"},\"y\":{\"field\":\"y\"}},\"id\":\"1928\",\"type\":\"Line\"},{\"attributes\":{\"overlay\":{\"id\":\"2006\",\"type\":\"BoxAnnotation\"}},\"id\":\"1910\",\"type\":\"BoxZoomTool\"},{\"attributes\":{\"line_color\":{\"value\":\"gray\"},\"line_dash\":[6],\"location\":50.0},\"id\":\"1931\",\"type\":\"Span\"},{\"attributes\":{},\"id\":\"1999\",\"type\":\"BasicTickFormatter\"},{\"attributes\":{},\"id\":\"1913\",\"type\":\"SaveTool\"}],\"root_ids\":[\"1889\"]},\"title\":\"Bokeh Application\",\"version\":\"1.2.0\"}};\n",
       "  var render_items = [{\"docid\":\"eaa2f039-116e-4938-b723-4a0d6485f64d\",\"roots\":{\"1889\":\"296ba635-e8e0-4d1c-b07f-8b1417ceaa62\"}}];\n",
       "  root.Bokeh.embed.embed_items_notebook(docs_json, render_items);\n",
       "\n",
       "  }\n",
       "  if (root.Bokeh !== undefined) {\n",
       "    embed_document(root);\n",
       "  } else {\n",
       "    var attempts = 0;\n",
       "    var timer = setInterval(function(root) {\n",
       "      if (root.Bokeh !== undefined) {\n",
       "        embed_document(root);\n",
       "        clearInterval(timer);\n",
       "      }\n",
       "      attempts++;\n",
       "      if (attempts > 100) {\n",
       "        console.log(\"Bokeh: ERROR: Unable to run BokehJS code because BokehJS library is missing\");\n",
       "        clearInterval(timer);\n",
       "      }\n",
       "    }, 10, root)\n",
       "  }\n",
       "})(window);"
      ],
      "application/vnd.bokehjs_exec.v0+json": ""
     },
     "metadata": {
      "application/vnd.bokehjs_exec.v0+json": {
       "id": "1889"
      }
     },
     "output_type": "display_data"
    }
   ],
   "source": [
    "gc_fp = []\n",
    "gc_rp = []\n",
    "for i in range(len(primers_list)):\n",
    "    gc_fp.append(primers_list[i][2].gc())\n",
    "    gc_rp.append(primers_list[i][3].gc())\n",
    "\n",
    "aplt.plot(np.array(gc_fp), maxpts=len(gc_fp), hold=True, ylim=[10, 60])\n",
    "aplt.plot(np.array(gc_rp), maxpts=len(gc_rp), hold=True)\n",
    "aplt.hlines([50, 55])"
   ]
  },
  {
   "cell_type": "code",
   "execution_count": 71,
   "metadata": {},
   "outputs": [
    {
     "name": "stdout",
     "output_type": "stream",
     "text": [
      "[(429, 510, f81 20-mer:5'-GCATCCTTATGTAGCAGTCC-3', r81 20-mer:5'-CTGTCACAGTGCTGCATTCT-3'), (429, 511, f82 20-mer:5'-GCATCCTTATGTAGCAGTCC-3', r82 20-mer:5'-TCTGTCACAGTGCTGCATTC-3'), (427, 510, f83 18-mer:5'-GGGCATCCTTATGTAGCA-3', r83 20-mer:5'-CTGTCACAGTGCTGCATTCT-3'), (426, 510, f84 18-mer:5'-AGGGCATCCTTATGTAGC-3', r84 19-mer:5'-CTGTCACAGTGCTGCATTC-3')]\n"
     ]
    }
   ],
   "source": [
    "good_gc = []\n",
    "for i in range(75, 151):\n",
    "    primers_list = get_primers_list(sequence, i)\n",
    "    for j in range(len(primers_list)):\n",
    "        if (primers_list[j][2].gc()) >= 50 and (primers_list[j][3].gc() >= 50):\n",
    "                good_gc.append(primers_list[j])\n",
    "\n",
    "print(good_gc)"
   ]
  },
  {
   "cell_type": "code",
   "execution_count": 83,
   "metadata": {},
   "outputs": [
    {
     "data": {
      "text/plain": [
       "50.0"
      ]
     },
     "execution_count": 83,
     "metadata": {},
     "output_type": "execute_result"
    }
   ],
   "source": [
    "good_gc[3][2].gc()"
   ]
  },
  {
   "cell_type": "code",
   "execution_count": null,
   "metadata": {},
   "outputs": [],
   "source": [
    "count = 0\n",
    "for i in range(len(primers_list)):\n",
    "    if (len(primers_list[i][2]) >= 18) and (len(primers_list[i][2]) <=25):\n",
    "        count += 1\n",
    "print(count)"
   ]
  },
  {
   "cell_type": "code",
   "execution_count": 40,
   "metadata": {},
   "outputs": [
    {
     "data": {
      "text/plain": [
       "21.2"
      ]
     },
     "execution_count": 40,
     "metadata": {},
     "output_type": "execute_result"
    }
   ],
   "source": [
    "a.reverse_primer.gc()"
   ]
  },
  {
   "cell_type": "code",
   "execution_count": null,
   "metadata": {},
   "outputs": [],
   "source": []
  }
 ],
 "metadata": {
  "kernelspec": {
   "display_name": "ml-env",
   "language": "python",
   "name": "ml-env"
  },
  "language_info": {
   "codemirror_mode": {
    "name": "ipython",
    "version": 3
   },
   "file_extension": ".py",
   "mimetype": "text/x-python",
   "name": "python",
   "nbconvert_exporter": "python",
   "pygments_lexer": "ipython3",
   "version": "3.7.2"
  }
 },
 "nbformat": 4,
 "nbformat_minor": 2
}
